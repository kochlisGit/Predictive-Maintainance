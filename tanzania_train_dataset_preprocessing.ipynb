{
 "cells": [
  {
   "cell_type": "markdown",
   "source": [
    "# Training Dataset Preprocessing\n",
    "\n",
    "From the analysis part, it is concluded that the following variables should be included in the dataset:\n",
    "\n",
    "**Numerical Features**:\n",
    "1. `amount_tsh`\n",
    "2. `gps_height`\n",
    "3. `population`\n",
    "4. `season`\n",
    "5. `operation_time`\n",
    "6. `public_meeting`\n",
    "7. `permit`\n",
    "\n",
    "**Categorical Features**\n",
    "1. `funder`\n",
    "2. `installer`\n",
    "3. `basin`\n",
    "4. `lga`\n",
    "5. `region_code`\n",
    "6. `district_code`\n",
    "7. `basin`\n",
    "8. `scheme_management`\n",
    "9. `management`\n",
    "10. `payment`\n",
    "11. `extraction_type`\n",
    "12. `source`\n",
    "13. `water_quality`\n",
    "14. `quantity`\n",
    "\n",
    "**Total number of features: 19**"
   ],
   "metadata": {
    "collapsed": false
   }
  },
  {
   "cell_type": "markdown",
   "source": [
    "# Importing Training Samples"
   ],
   "metadata": {
    "collapsed": false
   }
  },
  {
   "cell_type": "code",
   "execution_count": 19,
   "metadata": {
    "collapsed": true
   },
   "outputs": [
    {
     "data": {
      "text/plain": "          id  amount_tsh date_recorded           funder  gps_height  \\\n0      69572      6000.0    2011-03-14            Roman        1390   \n1       8776         0.0    2013-03-06          Grumeti        1399   \n2      34310        25.0    2013-02-25     Lottery Club         686   \n3      67743         0.0    2013-01-28           Unicef         263   \n4      19728         0.0    2011-07-13      Action In A           0   \n...      ...         ...           ...              ...         ...   \n59395  60739        10.0    2013-05-03  Germany Republi        1210   \n59396  27263      4700.0    2011-05-07      Cefa-njombe        1212   \n59397  37057         0.0    2011-04-11              NaN           0   \n59398  31282         0.0    2011-03-08            Malec           0   \n59399  26348         0.0    2011-03-23       World Bank         191   \n\n          installer  longitude   latitude              wpt_name  num_private  \\\n0             Roman  34.938093  -9.856322                  none            0   \n1           GRUMETI  34.698766  -2.147466              Zahanati            0   \n2      World vision  37.460664  -3.821329           Kwa Mahundi            0   \n3            UNICEF  38.486161 -11.155298  Zahanati Ya Nanyumbu            0   \n4           Artisan  31.130847  -1.825359               Shuleni            0   \n...             ...        ...        ...                   ...          ...   \n59395           CES  37.169807  -3.253847   Area Three Namba 27            0   \n59396          Cefa  35.249991  -9.070629     Kwa Yahona Kuvala            0   \n59397           NaN  34.017087  -8.750434               Mashine            0   \n59398          Musa  35.861315  -6.378573                Mshoro            0   \n59399         World  38.104048  -6.747464       Kwa Mzee Lugawa            0   \n\n       ... payment_type water_quality quality_group      quantity  \\\n0      ...     annually          soft          good        enough   \n1      ...    never pay          soft          good  insufficient   \n2      ...   per bucket          soft          good        enough   \n3      ...    never pay          soft          good           dry   \n4      ...    never pay          soft          good      seasonal   \n...    ...          ...           ...           ...           ...   \n59395  ...   per bucket          soft          good        enough   \n59396  ...     annually          soft          good        enough   \n59397  ...      monthly      fluoride      fluoride        enough   \n59398  ...    never pay          soft          good  insufficient   \n59399  ...   on failure         salty         salty        enough   \n\n       quantity_group                source           source_type  \\\n0              enough                spring                spring   \n1        insufficient  rainwater harvesting  rainwater harvesting   \n2              enough                   dam                   dam   \n3                 dry           machine dbh              borehole   \n4            seasonal  rainwater harvesting  rainwater harvesting   \n...               ...                   ...                   ...   \n59395          enough                spring                spring   \n59396          enough                 river            river/lake   \n59397          enough           machine dbh              borehole   \n59398    insufficient          shallow well          shallow well   \n59399          enough          shallow well          shallow well   \n\n       source_class              waterpoint_type waterpoint_type_group  \n0       groundwater           communal standpipe    communal standpipe  \n1           surface           communal standpipe    communal standpipe  \n2           surface  communal standpipe multiple    communal standpipe  \n3       groundwater  communal standpipe multiple    communal standpipe  \n4           surface           communal standpipe    communal standpipe  \n...             ...                          ...                   ...  \n59395   groundwater           communal standpipe    communal standpipe  \n59396       surface           communal standpipe    communal standpipe  \n59397   groundwater                    hand pump             hand pump  \n59398   groundwater                    hand pump             hand pump  \n59399   groundwater                    hand pump             hand pump  \n\n[59400 rows x 40 columns]",
      "text/html": "<div>\n<style scoped>\n    .dataframe tbody tr th:only-of-type {\n        vertical-align: middle;\n    }\n\n    .dataframe tbody tr th {\n        vertical-align: top;\n    }\n\n    .dataframe thead th {\n        text-align: right;\n    }\n</style>\n<table border=\"1\" class=\"dataframe\">\n  <thead>\n    <tr style=\"text-align: right;\">\n      <th></th>\n      <th>id</th>\n      <th>amount_tsh</th>\n      <th>date_recorded</th>\n      <th>funder</th>\n      <th>gps_height</th>\n      <th>installer</th>\n      <th>longitude</th>\n      <th>latitude</th>\n      <th>wpt_name</th>\n      <th>num_private</th>\n      <th>...</th>\n      <th>payment_type</th>\n      <th>water_quality</th>\n      <th>quality_group</th>\n      <th>quantity</th>\n      <th>quantity_group</th>\n      <th>source</th>\n      <th>source_type</th>\n      <th>source_class</th>\n      <th>waterpoint_type</th>\n      <th>waterpoint_type_group</th>\n    </tr>\n  </thead>\n  <tbody>\n    <tr>\n      <th>0</th>\n      <td>69572</td>\n      <td>6000.0</td>\n      <td>2011-03-14</td>\n      <td>Roman</td>\n      <td>1390</td>\n      <td>Roman</td>\n      <td>34.938093</td>\n      <td>-9.856322</td>\n      <td>none</td>\n      <td>0</td>\n      <td>...</td>\n      <td>annually</td>\n      <td>soft</td>\n      <td>good</td>\n      <td>enough</td>\n      <td>enough</td>\n      <td>spring</td>\n      <td>spring</td>\n      <td>groundwater</td>\n      <td>communal standpipe</td>\n      <td>communal standpipe</td>\n    </tr>\n    <tr>\n      <th>1</th>\n      <td>8776</td>\n      <td>0.0</td>\n      <td>2013-03-06</td>\n      <td>Grumeti</td>\n      <td>1399</td>\n      <td>GRUMETI</td>\n      <td>34.698766</td>\n      <td>-2.147466</td>\n      <td>Zahanati</td>\n      <td>0</td>\n      <td>...</td>\n      <td>never pay</td>\n      <td>soft</td>\n      <td>good</td>\n      <td>insufficient</td>\n      <td>insufficient</td>\n      <td>rainwater harvesting</td>\n      <td>rainwater harvesting</td>\n      <td>surface</td>\n      <td>communal standpipe</td>\n      <td>communal standpipe</td>\n    </tr>\n    <tr>\n      <th>2</th>\n      <td>34310</td>\n      <td>25.0</td>\n      <td>2013-02-25</td>\n      <td>Lottery Club</td>\n      <td>686</td>\n      <td>World vision</td>\n      <td>37.460664</td>\n      <td>-3.821329</td>\n      <td>Kwa Mahundi</td>\n      <td>0</td>\n      <td>...</td>\n      <td>per bucket</td>\n      <td>soft</td>\n      <td>good</td>\n      <td>enough</td>\n      <td>enough</td>\n      <td>dam</td>\n      <td>dam</td>\n      <td>surface</td>\n      <td>communal standpipe multiple</td>\n      <td>communal standpipe</td>\n    </tr>\n    <tr>\n      <th>3</th>\n      <td>67743</td>\n      <td>0.0</td>\n      <td>2013-01-28</td>\n      <td>Unicef</td>\n      <td>263</td>\n      <td>UNICEF</td>\n      <td>38.486161</td>\n      <td>-11.155298</td>\n      <td>Zahanati Ya Nanyumbu</td>\n      <td>0</td>\n      <td>...</td>\n      <td>never pay</td>\n      <td>soft</td>\n      <td>good</td>\n      <td>dry</td>\n      <td>dry</td>\n      <td>machine dbh</td>\n      <td>borehole</td>\n      <td>groundwater</td>\n      <td>communal standpipe multiple</td>\n      <td>communal standpipe</td>\n    </tr>\n    <tr>\n      <th>4</th>\n      <td>19728</td>\n      <td>0.0</td>\n      <td>2011-07-13</td>\n      <td>Action In A</td>\n      <td>0</td>\n      <td>Artisan</td>\n      <td>31.130847</td>\n      <td>-1.825359</td>\n      <td>Shuleni</td>\n      <td>0</td>\n      <td>...</td>\n      <td>never pay</td>\n      <td>soft</td>\n      <td>good</td>\n      <td>seasonal</td>\n      <td>seasonal</td>\n      <td>rainwater harvesting</td>\n      <td>rainwater harvesting</td>\n      <td>surface</td>\n      <td>communal standpipe</td>\n      <td>communal standpipe</td>\n    </tr>\n    <tr>\n      <th>...</th>\n      <td>...</td>\n      <td>...</td>\n      <td>...</td>\n      <td>...</td>\n      <td>...</td>\n      <td>...</td>\n      <td>...</td>\n      <td>...</td>\n      <td>...</td>\n      <td>...</td>\n      <td>...</td>\n      <td>...</td>\n      <td>...</td>\n      <td>...</td>\n      <td>...</td>\n      <td>...</td>\n      <td>...</td>\n      <td>...</td>\n      <td>...</td>\n      <td>...</td>\n      <td>...</td>\n    </tr>\n    <tr>\n      <th>59395</th>\n      <td>60739</td>\n      <td>10.0</td>\n      <td>2013-05-03</td>\n      <td>Germany Republi</td>\n      <td>1210</td>\n      <td>CES</td>\n      <td>37.169807</td>\n      <td>-3.253847</td>\n      <td>Area Three Namba 27</td>\n      <td>0</td>\n      <td>...</td>\n      <td>per bucket</td>\n      <td>soft</td>\n      <td>good</td>\n      <td>enough</td>\n      <td>enough</td>\n      <td>spring</td>\n      <td>spring</td>\n      <td>groundwater</td>\n      <td>communal standpipe</td>\n      <td>communal standpipe</td>\n    </tr>\n    <tr>\n      <th>59396</th>\n      <td>27263</td>\n      <td>4700.0</td>\n      <td>2011-05-07</td>\n      <td>Cefa-njombe</td>\n      <td>1212</td>\n      <td>Cefa</td>\n      <td>35.249991</td>\n      <td>-9.070629</td>\n      <td>Kwa Yahona Kuvala</td>\n      <td>0</td>\n      <td>...</td>\n      <td>annually</td>\n      <td>soft</td>\n      <td>good</td>\n      <td>enough</td>\n      <td>enough</td>\n      <td>river</td>\n      <td>river/lake</td>\n      <td>surface</td>\n      <td>communal standpipe</td>\n      <td>communal standpipe</td>\n    </tr>\n    <tr>\n      <th>59397</th>\n      <td>37057</td>\n      <td>0.0</td>\n      <td>2011-04-11</td>\n      <td>NaN</td>\n      <td>0</td>\n      <td>NaN</td>\n      <td>34.017087</td>\n      <td>-8.750434</td>\n      <td>Mashine</td>\n      <td>0</td>\n      <td>...</td>\n      <td>monthly</td>\n      <td>fluoride</td>\n      <td>fluoride</td>\n      <td>enough</td>\n      <td>enough</td>\n      <td>machine dbh</td>\n      <td>borehole</td>\n      <td>groundwater</td>\n      <td>hand pump</td>\n      <td>hand pump</td>\n    </tr>\n    <tr>\n      <th>59398</th>\n      <td>31282</td>\n      <td>0.0</td>\n      <td>2011-03-08</td>\n      <td>Malec</td>\n      <td>0</td>\n      <td>Musa</td>\n      <td>35.861315</td>\n      <td>-6.378573</td>\n      <td>Mshoro</td>\n      <td>0</td>\n      <td>...</td>\n      <td>never pay</td>\n      <td>soft</td>\n      <td>good</td>\n      <td>insufficient</td>\n      <td>insufficient</td>\n      <td>shallow well</td>\n      <td>shallow well</td>\n      <td>groundwater</td>\n      <td>hand pump</td>\n      <td>hand pump</td>\n    </tr>\n    <tr>\n      <th>59399</th>\n      <td>26348</td>\n      <td>0.0</td>\n      <td>2011-03-23</td>\n      <td>World Bank</td>\n      <td>191</td>\n      <td>World</td>\n      <td>38.104048</td>\n      <td>-6.747464</td>\n      <td>Kwa Mzee Lugawa</td>\n      <td>0</td>\n      <td>...</td>\n      <td>on failure</td>\n      <td>salty</td>\n      <td>salty</td>\n      <td>enough</td>\n      <td>enough</td>\n      <td>shallow well</td>\n      <td>shallow well</td>\n      <td>groundwater</td>\n      <td>hand pump</td>\n      <td>hand pump</td>\n    </tr>\n  </tbody>\n</table>\n<p>59400 rows × 40 columns</p>\n</div>"
     },
     "execution_count": 19,
     "metadata": {},
     "output_type": "execute_result"
    }
   ],
   "source": [
    "import pandas as pd\n",
    "\n",
    "samples = pd.read_csv('train.csv')\n",
    "targets = pd.read_csv('targets.csv')\n",
    "\n",
    "samples"
   ]
  },
  {
   "cell_type": "markdown",
   "source": [
    "# Amount TSH, Population, GPS Height\n",
    "\n",
    "The `amount_tsh` column can be imputed using the mean value of pumps from the same subvillage.\n",
    "However, since the `gps_height` is location dependent, it imputed by also using wards and even longitude and latitude, in order to find nearby pumps.\n",
    "The `population` will be imputed just like amount_tsh column.\n",
    "\n",
    "**Helper Functions**:\n",
    "1. `impute_column_by_nearby_samples`: Imputes a specified column using the mean of nearby located pumps\n",
    "2. `find_k_nearest_by_coordinates`: Returns the k nearest located pumps, using the longitude & latitude"
   ],
   "metadata": {
    "collapsed": false
   }
  },
  {
   "cell_type": "code",
   "execution_count": 20,
   "outputs": [],
   "source": [
    "import numpy as np\n",
    "\n",
    "\n",
    "def find_k_nearest_by_coordinates(\n",
    "        samples_df: pd.DataFrame,\n",
    "        k_nearest: int,\n",
    "        longitude: float,\n",
    "        latitude: float\n",
    ") -> pd.DataFrame:\n",
    "    geo_coordinates = samples_df[['longitude', 'latitude']]\n",
    "    target_coord = np.float32([longitude, latitude])\n",
    "    distances = np.sqrt(np.sum(np.power(target_coord - geo_coordinates, 2), axis=1))\n",
    "    min_distance_indices = np.argpartition(distances, k_nearest)[1: k_nearest+1]\n",
    "    return samples_df.iloc[min_distance_indices]\n",
    "\n",
    "\n",
    "def impute_zeros_by_nearby_samples(\n",
    "        samples_df: pd.DataFrame,\n",
    "        location_column: str,\n",
    "        target_column: str,\n",
    "        std_threshold: float or None\n",
    ") -> int:\n",
    "    num_imputed = 0\n",
    "\n",
    "    for area in samples_df[location_column].unique():\n",
    "        row_ids = samples_df[location_column] == area\n",
    "        target_values = samples_df.loc[row_ids, target_column]\n",
    "\n",
    "        if target_values.shape[0] > 1:\n",
    "            non_zero_ids = target_values > 0\n",
    "\n",
    "            if non_zero_ids.sum() > 0:\n",
    "                non_zero_values = target_values[non_zero_ids]\n",
    "\n",
    "                if std_threshold is not None and np.std(non_zero_values) > std_threshold:\n",
    "                    continue\n",
    "\n",
    "                zero_ids = np.invert(non_zero_ids)\n",
    "                target_values[zero_ids] = non_zero_values.mean()\n",
    "                samples_df.loc[row_ids, target_column] = target_values\n",
    "                num_imputed += zero_ids.sum()\n",
    "    return num_imputed"
   ],
   "metadata": {
    "collapsed": false,
    "pycharm": {
     "name": "#%%\n"
    }
   }
  },
  {
   "cell_type": "code",
   "execution_count": 21,
   "outputs": [
    {
     "data": {
      "text/plain": "'Imputed 4573/41639 missing \"amount_tsh\" values'"
     },
     "execution_count": 21,
     "metadata": {},
     "output_type": "execute_result"
    }
   ],
   "source": [
    "amount_tsh_std_threshold = 50\n",
    "\n",
    "num_amount_tsh_missing = (samples[\"amount_tsh\"] == 0).sum()\n",
    "num_imputed = impute_zeros_by_nearby_samples(\n",
    "    samples_df=samples,\n",
    "    location_column='subvillage',\n",
    "    target_column='amount_tsh',\n",
    "    std_threshold=amount_tsh_std_threshold\n",
    ")\n",
    "f'Imputed {num_imputed}/{num_amount_tsh_missing} missing \"amount_tsh\" values'"
   ],
   "metadata": {
    "collapsed": false,
    "pycharm": {
     "name": "#%%\n"
    }
   }
  },
  {
   "cell_type": "code",
   "execution_count": 22,
   "outputs": [
    {
     "data": {
      "text/plain": "'Imputed 1363/21381 missing \"population\" values'"
     },
     "execution_count": 22,
     "metadata": {},
     "output_type": "execute_result"
    }
   ],
   "source": [
    "population_std_threshold = 50\n",
    "\n",
    "num_amount_tsh_missing = (samples[\"population\"] == 0).sum()\n",
    "num_imputed = impute_zeros_by_nearby_samples(\n",
    "    samples_df=samples,\n",
    "    location_column='subvillage',\n",
    "    target_column='population',\n",
    "    std_threshold=population_std_threshold\n",
    ")\n",
    "f'Imputed {num_imputed}/{num_amount_tsh_missing} missing \"population\" values'"
   ],
   "metadata": {
    "collapsed": false,
    "pycharm": {
     "name": "#%%\n"
    }
   }
  },
  {
   "cell_type": "code",
   "execution_count": 23,
   "outputs": [
    {
     "name": "stdout",
     "output_type": "stream",
     "text": [
      "Imputed 5354/20438 missing \"gps_height\" values using \"subvillages\"\n",
      "Imputed 13933/15804 missing \"gps_height\" values using \"subvillages\"\n",
      "Imputed 2558/2604 missing \"gps_height\" values using \"subvillages\"\n",
      "Imputed 89/89 missing \"gps_height\" values using \"subvillages\"\n"
     ]
    }
   ],
   "source": [
    "location_columns = ['subvillage', 'ward', 'lga', 'district_code']\n",
    "\n",
    "for location_column in location_columns:\n",
    "    num_gps_height_missing = (samples[\"gps_height\"] == 0).sum()\n",
    "    num_imputed = impute_zeros_by_nearby_samples(\n",
    "        samples_df=samples,\n",
    "        location_column=location_column,\n",
    "        target_column='gps_height',\n",
    "        std_threshold=None\n",
    "    )\n",
    "    print(f'Imputed {num_imputed}/{num_gps_height_missing} missing \"gps_height\" values using \"subvillages\"')"
   ],
   "metadata": {
    "collapsed": false,
    "pycharm": {
     "name": "#%%\n"
    }
   }
  },
  {
   "cell_type": "code",
   "execution_count": 24,
   "outputs": [
    {
     "data": {
      "text/plain": "'gps_height == 0: 0 After K-NN method'"
     },
     "execution_count": 24,
     "metadata": {},
     "output_type": "execute_result"
    }
   ],
   "source": [
    "k_neighbors = 25\n",
    "gps_height_zero_ids = samples['gps_height'] == 0\n",
    "gps_zero_samples = samples[gps_height_zero_ids]\n",
    "gps_heights = []\n",
    "\n",
    "for _, sample in gps_zero_samples.iterrows():\n",
    "    longitude = sample['longitude']\n",
    "    latitude = sample['latitude']\n",
    "    nearest_samples = find_k_nearest_by_coordinates(\n",
    "        samples_df=samples,\n",
    "        k_nearest=k_neighbors,\n",
    "        longitude=longitude,\n",
    "        latitude=latitude\n",
    "    )\n",
    "    non_zero_gps_height_values = nearest_samples.loc[nearest_samples['gps_height'] != 0, 'gps_height']\n",
    "    gps_heights.append(non_zero_gps_height_values.mean())\n",
    "\n",
    "samples.loc[samples['gps_height'] == 0, 'gps_height'] = gps_heights\n",
    "f'gps_height == 0: {(samples[\"gps_height\"] == 0).sum()} After K-NN method'"
   ],
   "metadata": {
    "collapsed": false,
    "pycharm": {
     "name": "#%%\n"
    }
   }
  },
  {
   "cell_type": "markdown",
   "source": [
    "# Computing Recorded Season & Operation Time\n",
    "\n",
    "| ID  | Season     | Months               |\n",
    "|-----|------------|----------------------|\n",
    "| 0   | ShortDry   | January - February   |\n",
    "| 1   | LongRains  | March - May          |\n",
    "| 2   | LongDry    | June - October       |\n",
    "| 3   | ShortRains | November - December  |\n",
    "\n",
    "The operation time is computed as: $Operation Time = Year Recorded - Construction Year$\n",
    "All invalid operation times should be assigned: `-1`."
   ],
   "metadata": {
    "collapsed": false
   }
  },
  {
   "cell_type": "code",
   "execution_count": 25,
   "outputs": [
    {
     "data": {
      "text/plain": "1    22242\n0    18756\n2    16432\n3     1970\nName: seasons, dtype: int64"
     },
     "execution_count": 25,
     "metadata": {},
     "output_type": "execute_result"
    }
   ],
   "source": [
    "seasons = {\n",
    "    1: 0, 2: 0,\n",
    "    3: 1, 4: 1, 5: 1,\n",
    "    6: 2, 7: 2, 8: 2, 9: 2, 10: 2,\n",
    "    11: 3, 12: 3,\n",
    "}\n",
    "\n",
    "samples['seasons'] = pd.DataFrame({'Months': pd.DatetimeIndex(samples['date_recorded']).month})\n",
    "samples['seasons'] = samples['seasons'].apply(lambda month: seasons[month])\n",
    "samples['seasons'].value_counts()"
   ],
   "metadata": {
    "collapsed": false,
    "pycharm": {
     "name": "#%%\n"
    }
   }
  },
  {
   "cell_type": "code",
   "execution_count": 26,
   "outputs": [
    {
     "data": {
      "text/plain": "'20718 invalid dates were set to -1'"
     },
     "execution_count": 26,
     "metadata": {},
     "output_type": "execute_result"
    }
   ],
   "source": [
    "samples['construction_year'] = samples['construction_year'].replace({0: 10000})\n",
    "samples['operation_time'] = pd.DatetimeIndex(samples['date_recorded']).year - samples['construction_year']\n",
    "\n",
    "invalid_operation_time_ids = samples['operation_time'] < 0\n",
    "samples.loc[invalid_operation_time_ids, 'operation_time'] = -1\n",
    "\n",
    "f'{invalid_operation_time_ids.sum()} invalid dates were set to -1'"
   ],
   "metadata": {
    "collapsed": false,
    "pycharm": {
     "name": "#%%\n"
    }
   }
  },
  {
   "cell_type": "markdown",
   "source": [
    "# Funder & Installer\n",
    "\n",
    "1. \"`Nans`\" will be converted to \"Unknown\" category\n",
    "2. Funders with low appearance frequency or numerical values will be assigned the \"`other`\" value\n",
    "3. The **Monge-Elkan** similarity score will be used to correctly match misspelled or similar tokens\n",
    "4. A low threshold (e.g. 50) should be used, so similar tokens are grouped together (e.g. **Germany Government** & **Tanzania Government** --> **Government**)\n",
    "\n",
    "**Helper Functions:**\n",
    "1. `preprocess_single_token`: Removes duplicates, stop-words and multiple whitespaces and capitals from a token.\n",
    "2. `preprocess_tokens`: Preprocesses the tokens of an entire column.\n",
    "3. `cluster_similar_tokens`: Clusters similar tokens using a Monge-Elkan algorithm.\n",
    "In case 2 tokens are matched, the token with the highest counts becomes the cluster's representative."
   ],
   "metadata": {
    "collapsed": false
   }
  },
  {
   "cell_type": "code",
   "execution_count": 27,
   "outputs": [],
   "source": [
    "from py_stringmatching.similarity_measure.monge_elkan import MongeElkan\n",
    "import re\n",
    "\n",
    "non_allowed = ['.', '/', '\\'', ',', '&', '(', ')', '-', '_', '1', '2', '3', '4', '5', '6', '7', '8', '9']\n",
    "similarity_algorithm = MongeElkan()\n",
    "\n",
    "\n",
    "def preprocess_single_token(token: str) -> str:\n",
    "    for ch in non_allowed:\n",
    "        token = token.replace(ch, ' ')\n",
    "    token = re.sub('\\\\s+', ' ', token).lower()\n",
    "    return token.lower()\n",
    "\n",
    "\n",
    "def preprocess_tokens(value_counts: pd.Series) -> dict:\n",
    "    preprocessed_tokens = {}\n",
    "\n",
    "    tokens = list(value_counts.index)\n",
    "    counts = list(value_counts.values)\n",
    "\n",
    "    for token, count in zip(tokens, counts):\n",
    "        processed_token = preprocess_single_token(token=token)\n",
    "\n",
    "        if not processed_token in preprocessed_tokens or preprocessed_tokens[processed_token] < count:\n",
    "            preprocessed_tokens[processed_token] = count\n",
    "    return preprocessed_tokens\n",
    "\n",
    "def cluster_similar_tokens(\n",
    "        samples_df: pd.DataFrame,\n",
    "        target_column: str,\n",
    "        similarity_threshold: int\n",
    ") -> (pd.DataFrame, int):\n",
    "    clusters = {}\n",
    "    num_clustered = 0\n",
    "\n",
    "    original_token_counts = samples_df[target_column].value_counts()\n",
    "\n",
    "    preprocessed_token_with_counts = preprocess_tokens(value_counts=original_token_counts)\n",
    "    preprocess_token_list = list(preprocessed_token_with_counts.keys())\n",
    "\n",
    "    for original_token, original_token_count in original_token_counts.items():\n",
    "        preprocessed_token = preprocess_single_token(token=original_token)\n",
    "\n",
    "        similarities = {\n",
    "            token2: similarity_algorithm.get_raw_score(preprocessed_token.split(' '), token2.split(' '))\n",
    "            for token2 in preprocess_token_list if preprocessed_token != token2\n",
    "        }\n",
    "\n",
    "        most_similar_token = max(similarities, key=similarities.get)\n",
    "        similarity_score = similarities[most_similar_token]\n",
    "\n",
    "        if similarity_score >= similarity_threshold and original_token_count < preprocessed_token_with_counts[most_similar_token]:\n",
    "            clusters[original_token] = most_similar_token\n",
    "            num_clustered += 1\n",
    "        else:\n",
    "            clusters[original_token] = preprocessed_token\n",
    "\n",
    "    samples_df[target_column] = samples[target_column].apply(lambda token: clusters[token])\n",
    "    return samples_df, num_clustered"
   ],
   "metadata": {
    "collapsed": false,
    "pycharm": {
     "name": "#%%\n"
    }
   }
  },
  {
   "cell_type": "code",
   "execution_count": 28,
   "outputs": [
    {
     "name": "stdout",
     "output_type": "stream",
     "text": [
      "Number of unique funders = 1898 before clustering\n",
      "Iteration = 1, Clustered 798 tokens\n",
      "Iteration = 2, Clustered 290 tokens\n",
      "Iteration = 3, Clustered 124 tokens\n",
      "Iteration = 4, Clustered 49 tokens\n",
      "Iteration = 5, Clustered 24 tokens\n",
      "Iteration = 6, Clustered 4 tokens\n",
      "Iteration = 7, Clustered 1 tokens\n",
      "Iteration = 8, Clustered 0 tokens\n"
     ]
    },
    {
     "data": {
      "text/plain": "'Number of unique funders = 233 after clustering'"
     },
     "execution_count": 28,
     "metadata": {},
     "output_type": "execute_result"
    }
   ],
   "source": [
    "print(f'Number of unique funders = {samples[\"funder\"].unique().shape[0]} before clustering')\n",
    "\n",
    "similarity_threshold = 0.5\n",
    "\n",
    "samples['funder'] = samples['funder'].fillna('unknown')\n",
    "samples['funder'] = samples['funder'].replace({'0': 'other', '-1': 'other'})\n",
    "\n",
    "num_clustered = 1000\n",
    "iteration = 0\n",
    "\n",
    "while num_clustered > 0:\n",
    "    samples, num_clustered = cluster_similar_tokens(\n",
    "        samples_df=samples,\n",
    "        target_column='funder',\n",
    "        similarity_threshold=similarity_threshold\n",
    "    )\n",
    "\n",
    "    iteration += 1\n",
    "    print(f'Iteration = {iteration}, Clustered {num_clustered} tokens')\n",
    "\n",
    "for funder, count in samples['funder'].value_counts().items():\n",
    "    if count < 10:\n",
    "        samples.loc[samples['funder'] == funder, 'funder'] = 'other'\n",
    "\n",
    "f'Number of unique funders = {samples[\"funder\"].unique().shape[0]} after clustering'"
   ],
   "metadata": {
    "collapsed": false,
    "pycharm": {
     "name": "#%%\n"
    }
   }
  },
  {
   "cell_type": "code",
   "execution_count": 29,
   "outputs": [
    {
     "name": "stdout",
     "output_type": "stream",
     "text": [
      "Iteration = 1, Clustered 952 tokens\n",
      "Iteration = 2, Clustered 306 tokens\n",
      "Iteration = 3, Clustered 138 tokens\n",
      "Iteration = 4, Clustered 57 tokens\n",
      "Iteration = 5, Clustered 16 tokens\n",
      "Iteration = 6, Clustered 6 tokens\n",
      "Iteration = 7, Clustered 3 tokens\n",
      "Iteration = 8, Clustered 1 tokens\n",
      "Iteration = 9, Clustered 1 tokens\n",
      "Iteration = 10, Clustered 0 tokens\n"
     ]
    },
    {
     "data": {
      "text/plain": "'Number of unique installers = 226 after clustering'"
     },
     "execution_count": 29,
     "metadata": {},
     "output_type": "execute_result"
    }
   ],
   "source": [
    "f'Number of unique installers = {samples[\"installer\"].unique().shape[0]} before clustering'\n",
    "\n",
    "similarity_threshold = 0.5\n",
    "\n",
    "samples['installer'] = samples['installer'].fillna('unknown')\n",
    "samples['installer'] = samples['installer'].replace({'0': 'other', '-1': 'other'})\n",
    "\n",
    "num_clustered = 1000\n",
    "iteration = 0\n",
    "\n",
    "while num_clustered > 0:\n",
    "    samples, num_clustered = cluster_similar_tokens(\n",
    "        samples_df=samples,\n",
    "        target_column='installer',\n",
    "        similarity_threshold=similarity_threshold\n",
    "    )\n",
    "\n",
    "    iteration += 1\n",
    "    print(f'Iteration = {iteration}, Clustered {num_clustered} tokens')\n",
    "\n",
    "for installer, count in samples['installer'].value_counts().items():\n",
    "    if count < 10:\n",
    "        samples.loc[samples['installer'] == installer, 'installer'] = 'other'\n",
    "\n",
    "f'Number of unique installers = {samples[\"installer\"].unique().shape[0]} after clustering'"
   ],
   "metadata": {
    "collapsed": false,
    "pycharm": {
     "name": "#%%\n"
    }
   }
  },
  {
   "cell_type": "markdown",
   "source": [
    "# Public Meeting & Permit\n",
    "\n",
    "Convert True/False/Nan to 1/0/-1"
   ],
   "metadata": {
    "collapsed": false,
    "pycharm": {
     "name": "#%% md\n"
    }
   }
  },
  {
   "cell_type": "code",
   "execution_count": 30,
   "outputs": [
    {
     "data": {
      "text/plain": "'Assigned 3334 Nans values of \"public_meeting\" column to -1'"
     },
     "execution_count": 30,
     "metadata": {},
     "output_type": "execute_result"
    }
   ],
   "source": [
    "samples['public_meeting'] = samples['public_meeting'].fillna('Unknown')\n",
    "samples['public_meeting'] = samples['public_meeting'].replace({'False': 0, 'True': 1, 'Unknown': -1})\n",
    "\n",
    "f'Assigned {(samples[\"public_meeting\"] == -1).sum()} Nans values of \"public_meeting\" column to -1'"
   ],
   "metadata": {
    "collapsed": false,
    "pycharm": {
     "name": "#%%\n"
    }
   }
  },
  {
   "cell_type": "code",
   "execution_count": 31,
   "outputs": [
    {
     "data": {
      "text/plain": "'Assigned 3056 Nans values of \"permit\" column to -1'"
     },
     "execution_count": 31,
     "metadata": {},
     "output_type": "execute_result"
    }
   ],
   "source": [
    "samples['permit'] = samples['permit'].fillna('Unknown')\n",
    "samples['permit'] = samples['permit'].replace({'False': 0, 'True': 1, 'Unknown': -1})\n",
    "f'Assigned {(samples[\"permit\"] == -1).sum()} Nans values of \"permit\" column to -1'"
   ],
   "metadata": {
    "collapsed": false,
    "pycharm": {
     "name": "#%%\n"
    }
   }
  },
  {
   "cell_type": "markdown",
   "source": [
    "# Scheme Management\n",
    "\n",
    "1. Replace the unique `None` value with the most frequent value of the same subvillage or ward\n",
    "2. Convert the remaining `NaNs` to `unknown` category\n",
    "\n",
    "**Helper Functions**\n",
    "1. `assign_most_frequent_by_nearby_samples`: It assigns the most frequent value of a specified column to the missing values using nearby samples,\n",
    "if the frequent value is appeared above a threshold."
   ],
   "metadata": {
    "collapsed": false,
    "pycharm": {
     "name": "#%% md\n"
    }
   }
  },
  {
   "cell_type": "code",
   "execution_count": 32,
   "outputs": [],
   "source": [
    "def impute_nans_by_nearby_samples(\n",
    "        samples_df: pd.DataFrame,\n",
    "        location_column: str,\n",
    "        target_column: str,\n",
    "        frequency_threshold: float or None\n",
    ") -> (pd.DataFrame, int):\n",
    "    num_imputed = 0\n",
    "\n",
    "    for area in samples_df[location_column].unique():\n",
    "        row_ids = samples_df[location_column] == area\n",
    "        target_values = samples_df.loc[row_ids, target_column]\n",
    "\n",
    "        if target_values.shape[0] > 1:\n",
    "            not_na_ids = target_values.notna()\n",
    "\n",
    "            if not_na_ids.sum() > 0:\n",
    "                value_frequencies = target_values.value_counts() / target_values.shape[0]\n",
    "                non_nan_values = target_values[not_na_ids]\n",
    "                most_frequent_value = non_nan_values.mode()\n",
    "\n",
    "                if frequency_threshold is not None and value_frequencies[most_frequent_value].tolist()[0] < frequency_threshold:\n",
    "                    continue\n",
    "\n",
    "                nan_ids = np.invert(not_na_ids)\n",
    "                target_values[nan_ids] = most_frequent_value\n",
    "                samples_df.loc[row_ids, target_column] = target_values\n",
    "                num_imputed += nan_ids.sum()\n",
    "    return samples_df, num_imputed"
   ],
   "metadata": {
    "collapsed": false,
    "pycharm": {
     "name": "#%%\n"
    }
   }
  },
  {
   "cell_type": "code",
   "execution_count": 33,
   "outputs": [
    {
     "name": "stdout",
     "output_type": "stream",
     "text": [
      "Imputed 255/3877 of \"scheme_management\" values using \"subvillage\" location\n",
      "Imputed 443/3877 of \"scheme_management\" values using \"ward\" location\n",
      "NaNs converted to \"Unknown\" = 3877\n"
     ]
    }
   ],
   "source": [
    "frequency_threshold = 0.7\n",
    "\n",
    "for location in ['subvillage', 'ward']:\n",
    "    num_nans = samples['scheme_management'].isna().sum()\n",
    "\n",
    "    samples, num_imputed = impute_nans_by_nearby_samples(\n",
    "        samples_df=samples,\n",
    "        location_column=location,\n",
    "        target_column='scheme_management',\n",
    "        frequency_threshold=frequency_threshold\n",
    "    )\n",
    "    print(f'Imputed {num_imputed}/{num_nans} of \"scheme_management\" values using \"{location}\" location')\n",
    "\n",
    "num_nans = samples['scheme_management'].isna().sum()\n",
    "samples['scheme_management'] = samples['scheme_management'].fillna('unknown')\n",
    "print(f'NaNs converted to \"Unknown\" = {num_nans}')"
   ],
   "metadata": {
    "collapsed": false,
    "pycharm": {
     "name": "#%%\n"
    }
   }
  },
  {
   "cell_type": "markdown",
   "source": [
    "# Management, Payment Type, Water Quality, Quantity\n",
    "\n",
    "Replace unknowns with the most frequent value in each subvillage/ward if it exceeds a frequency threshold"
   ],
   "metadata": {
    "collapsed": false
   }
  },
  {
   "cell_type": "code",
   "execution_count": 34,
   "outputs": [],
   "source": [
    "def impute_unknowns_by_nearby_samples(\n",
    "        samples_df: pd.DataFrame,\n",
    "        location_column: str,\n",
    "        target_column: str,\n",
    "        frequency_threshold: float\n",
    ") -> (pd.DataFrame, int):\n",
    "    num_imputed = 0\n",
    "\n",
    "    for area in samples_df[location_column].unique():\n",
    "        row_ids = samples_df[location_column] == area\n",
    "        target_values = samples_df.loc[row_ids, target_column]\n",
    "\n",
    "        if target_values.shape[0] > 1:\n",
    "            not_unknown_ids = target_values != 'unknown'\n",
    "\n",
    "            if not_unknown_ids.sum() > 0:\n",
    "                value_frequencies = target_values.value_counts() / target_values.shape[0]\n",
    "                most_frequent_value_frequency = value_frequencies.values[0]\n",
    "\n",
    "                if value_frequencies.index[0] != 'unknown' and most_frequent_value_frequency >= frequency_threshold:\n",
    "                    unknown_ids = np.invert(not_unknown_ids)\n",
    "                    target_values[unknown_ids] = value_frequencies.index[0]\n",
    "                    samples_df.loc[row_ids, target_column] = target_values\n",
    "                    num_imputed += unknown_ids.sum()\n",
    "    return samples_df, num_imputed"
   ],
   "metadata": {
    "collapsed": false,
    "pycharm": {
     "name": "#%%\n"
    }
   }
  },
  {
   "cell_type": "code",
   "execution_count": 35,
   "outputs": [
    {
     "name": "stdout",
     "output_type": "stream",
     "text": [
      "Imputed 56/561 \"unknown\" values of column \"management\" using nearby \"subvillage\" samples\n",
      "Imputed 89/8157 \"unknown\" values of column \"payment_type\" using nearby \"subvillage\" samples\n",
      "Imputed 345/1876 \"unknown\" values of column \"water_quality\" using nearby \"subvillage\" samples\n",
      "Imputed 42/789 \"unknown\" values of column \"quantity\" using nearby \"subvillage\" samples\n",
      "Imputed 177/505 \"unknown\" values of column \"management\" using nearby \"ward\" samples\n",
      "Imputed 131/8068 \"unknown\" values of column \"payment_type\" using nearby \"ward\" samples\n",
      "Imputed 298/1531 \"unknown\" values of column \"water_quality\" using nearby \"ward\" samples\n",
      "Imputed 73/747 \"unknown\" values of column \"quantity\" using nearby \"ward\" samples\n"
     ]
    }
   ],
   "source": [
    "frequency_threshold = 0.8\n",
    "\n",
    "for location_col in ['subvillage', 'ward']:\n",
    "    for target_col in ['management', 'payment_type', 'water_quality', 'quantity']:\n",
    "        num_unknowns = (samples[target_col] == 'unknown').sum()\n",
    "\n",
    "        samples, num_imputed = impute_unknowns_by_nearby_samples(\n",
    "            samples_df=samples,\n",
    "            location_column=location_col,\n",
    "            target_column=target_col,\n",
    "            frequency_threshold=frequency_threshold\n",
    "        )\n",
    "        print(f'Imputed {num_imputed}/{num_unknowns} \"unknown\" values of column \"{target_col}\" using nearby \"{location_col}\" samples')"
   ],
   "metadata": {
    "collapsed": false,
    "pycharm": {
     "name": "#%%\n"
    }
   }
  },
  {
   "cell_type": "markdown",
   "source": [
    "# Storing Train Dataset"
   ],
   "metadata": {
    "collapsed": false
   }
  },
  {
   "cell_type": "code",
   "execution_count": 36,
   "outputs": [
    {
     "data": {
      "text/plain": "          id  amount_tsh date_recorded           funder   gps_height  \\\n0      69572      6000.0    2011-03-14   roman catholic  1390.000000   \n1       8776         0.0    2013-03-06            rudep  1399.000000   \n2      34310        25.0    2013-02-25      rotary club   686.000000   \n3      67743         0.0    2013-01-28           unicef   263.000000   \n4      19728         0.0    2011-07-13         mzinga a  1300.000000   \n...      ...         ...           ...              ...          ...   \n59395  60739        10.0    2013-05-03  germany republi  1210.000000   \n59396  27263      4700.0    2011-05-07      cefa njombe  1212.000000   \n59397  37057         0.0    2011-04-11          unknown   867.728155   \n59398  31282        50.0    2011-03-08            other   401.400000   \n59399  26348         0.0    2011-03-23       world bank   191.000000   \n\n                     installer  longitude   latitude              wpt_name  \\\n0      roman cathoric kilomeni  34.938093  -9.856322                  none   \n1                      grumeti  34.698766  -2.147466              Zahanati   \n2                 world vision  37.460664  -3.821329           Kwa Mahundi   \n3                       unicef  38.486161 -11.155298  Zahanati Ya Nanyumbu   \n4                      artisan  31.130847  -1.825359               Shuleni   \n...                        ...        ...        ...                   ...   \n59395                      ces  37.169807  -3.253847   Area Three Namba 27   \n59396            rcchurch cefa  35.249991  -9.070629     Kwa Yahona Kuvala   \n59397                  unknown  34.017087  -8.750434               Mashine   \n59398                    muwsa  35.861315  -6.378573                Mshoro   \n59399             world vision  38.104048  -6.747464       Kwa Mzee Lugawa   \n\n       num_private  ... quality_group      quantity quantity_group  \\\n0                0  ...          good        enough         enough   \n1                0  ...          good  insufficient   insufficient   \n2                0  ...          good        enough         enough   \n3                0  ...          good           dry            dry   \n4                0  ...          good      seasonal       seasonal   \n...            ...  ...           ...           ...            ...   \n59395            0  ...          good        enough         enough   \n59396            0  ...          good        enough         enough   \n59397            0  ...      fluoride        enough         enough   \n59398            0  ...          good  insufficient   insufficient   \n59399            0  ...         salty        enough         enough   \n\n                     source           source_type source_class  \\\n0                    spring                spring  groundwater   \n1      rainwater harvesting  rainwater harvesting      surface   \n2                       dam                   dam      surface   \n3               machine dbh              borehole  groundwater   \n4      rainwater harvesting  rainwater harvesting      surface   \n...                     ...                   ...          ...   \n59395                spring                spring  groundwater   \n59396                 river            river/lake      surface   \n59397           machine dbh              borehole  groundwater   \n59398          shallow well          shallow well  groundwater   \n59399          shallow well          shallow well  groundwater   \n\n                   waterpoint_type  waterpoint_type_group seasons  \\\n0               communal standpipe     communal standpipe       1   \n1               communal standpipe     communal standpipe       1   \n2      communal standpipe multiple     communal standpipe       0   \n3      communal standpipe multiple     communal standpipe       0   \n4               communal standpipe     communal standpipe       2   \n...                            ...                    ...     ...   \n59395           communal standpipe     communal standpipe       1   \n59396           communal standpipe     communal standpipe       1   \n59397                    hand pump              hand pump       1   \n59398                    hand pump              hand pump       1   \n59399                    hand pump              hand pump       1   \n\n      operation_time  \n0                 12  \n1                  3  \n2                  4  \n3                 27  \n4                 -1  \n...              ...  \n59395             14  \n59396             15  \n59397             -1  \n59398             -1  \n59399              9  \n\n[59400 rows x 42 columns]",
      "text/html": "<div>\n<style scoped>\n    .dataframe tbody tr th:only-of-type {\n        vertical-align: middle;\n    }\n\n    .dataframe tbody tr th {\n        vertical-align: top;\n    }\n\n    .dataframe thead th {\n        text-align: right;\n    }\n</style>\n<table border=\"1\" class=\"dataframe\">\n  <thead>\n    <tr style=\"text-align: right;\">\n      <th></th>\n      <th>id</th>\n      <th>amount_tsh</th>\n      <th>date_recorded</th>\n      <th>funder</th>\n      <th>gps_height</th>\n      <th>installer</th>\n      <th>longitude</th>\n      <th>latitude</th>\n      <th>wpt_name</th>\n      <th>num_private</th>\n      <th>...</th>\n      <th>quality_group</th>\n      <th>quantity</th>\n      <th>quantity_group</th>\n      <th>source</th>\n      <th>source_type</th>\n      <th>source_class</th>\n      <th>waterpoint_type</th>\n      <th>waterpoint_type_group</th>\n      <th>seasons</th>\n      <th>operation_time</th>\n    </tr>\n  </thead>\n  <tbody>\n    <tr>\n      <th>0</th>\n      <td>69572</td>\n      <td>6000.0</td>\n      <td>2011-03-14</td>\n      <td>roman catholic</td>\n      <td>1390.000000</td>\n      <td>roman cathoric kilomeni</td>\n      <td>34.938093</td>\n      <td>-9.856322</td>\n      <td>none</td>\n      <td>0</td>\n      <td>...</td>\n      <td>good</td>\n      <td>enough</td>\n      <td>enough</td>\n      <td>spring</td>\n      <td>spring</td>\n      <td>groundwater</td>\n      <td>communal standpipe</td>\n      <td>communal standpipe</td>\n      <td>1</td>\n      <td>12</td>\n    </tr>\n    <tr>\n      <th>1</th>\n      <td>8776</td>\n      <td>0.0</td>\n      <td>2013-03-06</td>\n      <td>rudep</td>\n      <td>1399.000000</td>\n      <td>grumeti</td>\n      <td>34.698766</td>\n      <td>-2.147466</td>\n      <td>Zahanati</td>\n      <td>0</td>\n      <td>...</td>\n      <td>good</td>\n      <td>insufficient</td>\n      <td>insufficient</td>\n      <td>rainwater harvesting</td>\n      <td>rainwater harvesting</td>\n      <td>surface</td>\n      <td>communal standpipe</td>\n      <td>communal standpipe</td>\n      <td>1</td>\n      <td>3</td>\n    </tr>\n    <tr>\n      <th>2</th>\n      <td>34310</td>\n      <td>25.0</td>\n      <td>2013-02-25</td>\n      <td>rotary club</td>\n      <td>686.000000</td>\n      <td>world vision</td>\n      <td>37.460664</td>\n      <td>-3.821329</td>\n      <td>Kwa Mahundi</td>\n      <td>0</td>\n      <td>...</td>\n      <td>good</td>\n      <td>enough</td>\n      <td>enough</td>\n      <td>dam</td>\n      <td>dam</td>\n      <td>surface</td>\n      <td>communal standpipe multiple</td>\n      <td>communal standpipe</td>\n      <td>0</td>\n      <td>4</td>\n    </tr>\n    <tr>\n      <th>3</th>\n      <td>67743</td>\n      <td>0.0</td>\n      <td>2013-01-28</td>\n      <td>unicef</td>\n      <td>263.000000</td>\n      <td>unicef</td>\n      <td>38.486161</td>\n      <td>-11.155298</td>\n      <td>Zahanati Ya Nanyumbu</td>\n      <td>0</td>\n      <td>...</td>\n      <td>good</td>\n      <td>dry</td>\n      <td>dry</td>\n      <td>machine dbh</td>\n      <td>borehole</td>\n      <td>groundwater</td>\n      <td>communal standpipe multiple</td>\n      <td>communal standpipe</td>\n      <td>0</td>\n      <td>27</td>\n    </tr>\n    <tr>\n      <th>4</th>\n      <td>19728</td>\n      <td>0.0</td>\n      <td>2011-07-13</td>\n      <td>mzinga a</td>\n      <td>1300.000000</td>\n      <td>artisan</td>\n      <td>31.130847</td>\n      <td>-1.825359</td>\n      <td>Shuleni</td>\n      <td>0</td>\n      <td>...</td>\n      <td>good</td>\n      <td>seasonal</td>\n      <td>seasonal</td>\n      <td>rainwater harvesting</td>\n      <td>rainwater harvesting</td>\n      <td>surface</td>\n      <td>communal standpipe</td>\n      <td>communal standpipe</td>\n      <td>2</td>\n      <td>-1</td>\n    </tr>\n    <tr>\n      <th>...</th>\n      <td>...</td>\n      <td>...</td>\n      <td>...</td>\n      <td>...</td>\n      <td>...</td>\n      <td>...</td>\n      <td>...</td>\n      <td>...</td>\n      <td>...</td>\n      <td>...</td>\n      <td>...</td>\n      <td>...</td>\n      <td>...</td>\n      <td>...</td>\n      <td>...</td>\n      <td>...</td>\n      <td>...</td>\n      <td>...</td>\n      <td>...</td>\n      <td>...</td>\n      <td>...</td>\n    </tr>\n    <tr>\n      <th>59395</th>\n      <td>60739</td>\n      <td>10.0</td>\n      <td>2013-05-03</td>\n      <td>germany republi</td>\n      <td>1210.000000</td>\n      <td>ces</td>\n      <td>37.169807</td>\n      <td>-3.253847</td>\n      <td>Area Three Namba 27</td>\n      <td>0</td>\n      <td>...</td>\n      <td>good</td>\n      <td>enough</td>\n      <td>enough</td>\n      <td>spring</td>\n      <td>spring</td>\n      <td>groundwater</td>\n      <td>communal standpipe</td>\n      <td>communal standpipe</td>\n      <td>1</td>\n      <td>14</td>\n    </tr>\n    <tr>\n      <th>59396</th>\n      <td>27263</td>\n      <td>4700.0</td>\n      <td>2011-05-07</td>\n      <td>cefa njombe</td>\n      <td>1212.000000</td>\n      <td>rcchurch cefa</td>\n      <td>35.249991</td>\n      <td>-9.070629</td>\n      <td>Kwa Yahona Kuvala</td>\n      <td>0</td>\n      <td>...</td>\n      <td>good</td>\n      <td>enough</td>\n      <td>enough</td>\n      <td>river</td>\n      <td>river/lake</td>\n      <td>surface</td>\n      <td>communal standpipe</td>\n      <td>communal standpipe</td>\n      <td>1</td>\n      <td>15</td>\n    </tr>\n    <tr>\n      <th>59397</th>\n      <td>37057</td>\n      <td>0.0</td>\n      <td>2011-04-11</td>\n      <td>unknown</td>\n      <td>867.728155</td>\n      <td>unknown</td>\n      <td>34.017087</td>\n      <td>-8.750434</td>\n      <td>Mashine</td>\n      <td>0</td>\n      <td>...</td>\n      <td>fluoride</td>\n      <td>enough</td>\n      <td>enough</td>\n      <td>machine dbh</td>\n      <td>borehole</td>\n      <td>groundwater</td>\n      <td>hand pump</td>\n      <td>hand pump</td>\n      <td>1</td>\n      <td>-1</td>\n    </tr>\n    <tr>\n      <th>59398</th>\n      <td>31282</td>\n      <td>50.0</td>\n      <td>2011-03-08</td>\n      <td>other</td>\n      <td>401.400000</td>\n      <td>muwsa</td>\n      <td>35.861315</td>\n      <td>-6.378573</td>\n      <td>Mshoro</td>\n      <td>0</td>\n      <td>...</td>\n      <td>good</td>\n      <td>insufficient</td>\n      <td>insufficient</td>\n      <td>shallow well</td>\n      <td>shallow well</td>\n      <td>groundwater</td>\n      <td>hand pump</td>\n      <td>hand pump</td>\n      <td>1</td>\n      <td>-1</td>\n    </tr>\n    <tr>\n      <th>59399</th>\n      <td>26348</td>\n      <td>0.0</td>\n      <td>2011-03-23</td>\n      <td>world bank</td>\n      <td>191.000000</td>\n      <td>world vision</td>\n      <td>38.104048</td>\n      <td>-6.747464</td>\n      <td>Kwa Mzee Lugawa</td>\n      <td>0</td>\n      <td>...</td>\n      <td>salty</td>\n      <td>enough</td>\n      <td>enough</td>\n      <td>shallow well</td>\n      <td>shallow well</td>\n      <td>groundwater</td>\n      <td>hand pump</td>\n      <td>hand pump</td>\n      <td>1</td>\n      <td>9</td>\n    </tr>\n  </tbody>\n</table>\n<p>59400 rows × 42 columns</p>\n</div>"
     },
     "execution_count": 36,
     "metadata": {},
     "output_type": "execute_result"
    }
   ],
   "source": [
    "samples.to_csv('train_inputs.csv', index=False)\n",
    "samples"
   ],
   "metadata": {
    "collapsed": false,
    "pycharm": {
     "name": "#%%\n"
    }
   }
  }
 ],
 "metadata": {
  "kernelspec": {
   "display_name": "Python 3",
   "language": "python",
   "name": "python3"
  },
  "language_info": {
   "codemirror_mode": {
    "name": "ipython",
    "version": 2
   },
   "file_extension": ".py",
   "mimetype": "text/x-python",
   "name": "python",
   "nbconvert_exporter": "python",
   "pygments_lexer": "ipython2",
   "version": "2.7.6"
  }
 },
 "nbformat": 4,
 "nbformat_minor": 0
}